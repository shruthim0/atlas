{
 "cells": [
  {
   "cell_type": "markdown",
   "metadata": {},
   "source": [
    "# Java\n",
    "- toc: true\n",
    "- comments: true"
   ]
  },
  {
   "cell_type": "code",
   "execution_count": null,
   "metadata": {},
   "outputs": [],
   "source": [
    "%%html\n",
    "<head>\n",
    "    <!-- load jQuery and DataTables syle and scripts -->\n",
    "    <link rel=\"stylesheet\" type=\"text/css\" href=\"https://cdn.datatables.net/1.10.25/css/jquery.dataTables.min.css\">\n",
    "    <script type=\"text/javascript\" language=\"javascript\" src=\"https://code.jquery.com/jquery-3.6.0.min.js\"></script>\n",
    "    <script type=\"text/javascript\" language=\"javascript\" src=\"https://cdn.datatables.net/1.10.25/js/jquery.dataTables.min.js\"></script>\n",
    "</head>\n",
    "<table id=\"flaskTable\" class=\"table\" style=\"width:100%\">\n",
    "    <thead id=\"flaskHead\">\n",
    "        <tr>\n",
    "            <th>ID</th>\n",
    "            <th>College</th>\n",
    "            <th>City</th>\n",
    "            <th>GPA</th>\n",
    "            <th>Acceptance Rate</th>\n",
    "        </tr>\n",
    "    </thead>\n",
    "    <tbody id=\"flaskBody\"></tbody>\n",
    "</table>\n",
    "\n",
    "<script>\n",
    "  $(document).ready(function() {\n",
    "    fetch('https://flask.nighthawkcodingsociety.com/api/users/', { mode: 'cors' })\n",
    "    .then(response => {\n",
    "      if (!response.ok) {\n",
    "        throw new Error('API response failed');\n",
    "      }\n",
    "      return response.json();\n",
    "    })\n",
    "    .then(data => {\n",
    "      for (const row of data) {\n",
    "        // BUG warning/resolution - DataTable requires row to be single append\n",
    "        $('#flaskBody').append('<tr><td>' + \n",
    "            row.id + '</td><td>' + \n",
    "            row.college + '</td><td>' + \n",
    "            row.city + '</td><td>' + \n",
    "            row.gpa + '</td><td>' + \n",
    "            row.rate + '</td></tr>');\n",
    "      }\n",
    "      // BUG warning - Jupyter does not show Datatable controls, works on deployed GitHub pages\n",
    "      $(\"#flaskTable\").DataTable();\n",
    "    })\n",
    "    .catch(error => {\n",
    "      console.error('Error:', error);\n",
    "    });\n",
    "  });\n",
    "</script>"
   ]
  }
 ],
 "metadata": {
  "language_info": {
   "name": "python"
  },
  "orig_nbformat": 4
 },
 "nbformat": 4,
 "nbformat_minor": 2
}
